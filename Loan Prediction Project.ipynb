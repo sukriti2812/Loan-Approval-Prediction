{
 "cells": [
  {
   "cell_type": "markdown",
   "id": "1a797150-e66b-45be-a291-c9fd13b267d9",
   "metadata": {},
   "source": [
    "# Loan Prediction Project"
   ]
  },
  {
   "cell_type": "markdown",
   "id": "39982ced-1241-4d22-a51e-4f23b807d0b3",
   "metadata": {},
   "source": [
    "## Problem Statement : \n",
    "**Dream Housing Finance** company deals in all home loans. They have presence across all urban, semi urban and rural areas. Customer first apply for home loan after that company validates the customer eligibility for loan. Company wants to automate the loan eligibility process (real time) based on customer detail provided while filling online application form. These details are Gender, Marital Status, Education, Number of Dependents, Income, Loan Amount, Credit History and others. To automate this process, they have given a problem to identify the customers segments, those are eligible for loan amount so that they can specifically target these customers."
   ]
  },
  {
   "cell_type": "markdown",
   "id": "185a9c67-9f59-4516-822e-7caf29f0833a",
   "metadata": {},
   "source": [
    "# Loading Packages"
   ]
  },
  {
   "cell_type": "code",
   "execution_count": 1,
   "id": "703fc5b4-fe92-419c-a295-b396863fcc35",
   "metadata": {
    "tags": []
   },
   "outputs": [],
   "source": [
    "# importing libraries\n",
    "import pandas as pd\n",
    "import matplotlib.pyplot as plt   # for plotting graphs\n",
    "%matplotlib inline\n",
    "import seaborn as sns   # for data visualisation\n",
    "import numpy as np   # for mathematical calculations\n",
    "import warnings           # to ignore any warnings\n",
    "warnings.filterwarnings(\"ignore\")"
   ]
  },
  {
   "cell_type": "markdown",
   "id": "56e8ae0e-f9dd-42b4-b42a-d363a45fe33c",
   "metadata": {},
   "source": [
    "# Reading data"
   ]
  },
  {
   "cell_type": "code",
   "execution_count": 2,
   "id": "2d14ad0a-f39b-44e7-a6f7-4950f207ca50",
   "metadata": {},
   "outputs": [],
   "source": [
    "train = pd.read_csv(\"train_data.csv\")\n",
    "test = pd.read_csv(\"test_data.csv\")"
   ]
  },
  {
   "cell_type": "code",
   "execution_count": 3,
   "id": "e65c3eb8-5dc4-4da0-a7db-9dd407346c10",
   "metadata": {},
   "outputs": [],
   "source": [
    "# creating copy of train and test data\n",
    "train_original = train.copy()\n",
    "test_original = test.copy()"
   ]
  },
  {
   "cell_type": "markdown",
   "id": "4cd606c7-c371-4f9f-ab8d-e97bf9927731",
   "metadata": {},
   "source": [
    "## Understanding the data"
   ]
  },
  {
   "cell_type": "code",
   "execution_count": 4,
   "id": "7044cc2c-b087-407e-a625-a883e4fa31ed",
   "metadata": {},
   "outputs": [
    {
     "data": {
      "text/plain": [
       "Index(['Loan_ID', 'Gender', 'Married', 'Dependents', 'Education',\n",
       "       'Self_Employed', 'ApplicantIncome', 'CoapplicantIncome', 'LoanAmount',\n",
       "       'Loan_Amount_Term', 'Credit_History', 'Property_Area', 'Loan_Status'],\n",
       "      dtype='object')"
      ]
     },
     "execution_count": 4,
     "metadata": {},
     "output_type": "execute_result"
    }
   ],
   "source": [
    "# Structure of the training and test data\n",
    "train.columns"
   ]
  },
  {
   "cell_type": "code",
   "execution_count": 5,
   "id": "7c066747-82dd-401a-bf0a-05355c41f21a",
   "metadata": {},
   "outputs": [
    {
     "data": {
      "text/plain": [
       "Index(['Loan_ID', 'Gender', 'Married', 'Dependents', 'Education',\n",
       "       'Self_Employed', 'ApplicantIncome', 'CoapplicantIncome', 'LoanAmount',\n",
       "       'Loan_Amount_Term', 'Credit_History', 'Property_Area'],\n",
       "      dtype='object')"
      ]
     },
     "execution_count": 5,
     "metadata": {},
     "output_type": "execute_result"
    }
   ],
   "source": [
    "test.columns"
   ]
  },
  {
   "cell_type": "code",
   "execution_count": 6,
   "id": "0c9b7eb9-f54c-4c34-934a-fcbb09459c22",
   "metadata": {},
   "outputs": [
    {
     "data": {
      "text/plain": [
       "Loan_ID               object\n",
       "Gender                object\n",
       "Married               object\n",
       "Dependents            object\n",
       "Education             object\n",
       "Self_Employed         object\n",
       "ApplicantIncome        int64\n",
       "CoapplicantIncome    float64\n",
       "LoanAmount           float64\n",
       "Loan_Amount_Term     float64\n",
       "Credit_History       float64\n",
       "Property_Area         object\n",
       "Loan_Status           object\n",
       "dtype: object"
      ]
     },
     "execution_count": 6,
     "metadata": {},
     "output_type": "execute_result"
    }
   ],
   "source": [
    "# data types of variables in training data\n",
    "train.dtypes"
   ]
  },
  {
   "cell_type": "code",
   "execution_count": 7,
   "id": "d36813dd-29f5-4346-bf2e-fa953dc097ac",
   "metadata": {},
   "outputs": [
    {
     "data": {
      "text/plain": [
       "((614, 13), (367, 12))"
      ]
     },
     "execution_count": 7,
     "metadata": {},
     "output_type": "execute_result"
    }
   ],
   "source": [
    "# shape of the dataset\n",
    "train.shape, test.shape"
   ]
  },
  {
   "cell_type": "markdown",
   "id": "9e35f1d8-e887-41f8-8d1f-d43f54770596",
   "metadata": {},
   "source": [
    "# Univariate Analysis"
   ]
  },
  {
   "cell_type": "code",
   "execution_count": 8,
   "id": "a7bdd84b-404a-481f-ae86-d6a3f30bf325",
   "metadata": {},
   "outputs": [
    {
     "data": {
      "text/plain": [
       "Y    422\n",
       "N    192\n",
       "Name: Loan_Status, dtype: int64"
      ]
     },
     "execution_count": 8,
     "metadata": {},
     "output_type": "execute_result"
    }
   ],
   "source": [
    "# First we will analyze the target variable : 'Loan_status'\n",
    "train['Loan_Status'].value_counts()"
   ]
  },
  {
   "cell_type": "code",
   "execution_count": 9,
   "id": "9815fb49-16b1-47a9-bf6b-8cff610a0fa2",
   "metadata": {},
   "outputs": [
    {
     "data": {
      "text/plain": [
       "Y    0.687296\n",
       "N    0.312704\n",
       "Name: Loan_Status, dtype: float64"
      ]
     },
     "execution_count": 9,
     "metadata": {},
     "output_type": "execute_result"
    }
   ],
   "source": [
    "# Set normalize as True to print proportions instead of numeric values\n",
    "train['Loan_Status'].value_counts(normalize=True)"
   ]
  },
  {
   "cell_type": "code",
   "execution_count": 10,
   "id": "5b9a9130-702e-405e-8be6-50f73037bf71",
   "metadata": {},
   "outputs": [
    {
     "data": {
      "text/plain": [
       "Text(0.5, 1.0, 'Loan Status v/s no. of customers')"
      ]
     },
     "execution_count": 10,
     "metadata": {},
     "output_type": "execute_result"
    },
    {
     "data": {
      "image/png": "[encoded data removed]",
      "text/plain": [
       "<Figure size 432x288 with 1 Axes>"
      ]
     },
     "metadata": {
      "needs_background": "light"
     },
     "output_type": "display_data"
    }
   ],
   "source": [
    "# Bar plot\n",
    "train['Loan_Status'].value_counts().plot.bar()\n",
    "plt.xlabel('Loan_Status')\n",
    "plt.ylabel('No. of customers')\n",
    "plt.title('Loan Status v/s no. of customers')"
   ]
  },
  {
   "cell_type": "markdown",
   "id": "52fdc15e-4c29-4f3a-a08b-9498bfa7ab9a",
   "metadata": {},
   "source": [
    "Visualizing categorical and ordinal features first"
   ]
  },
  {
   "cell_type": "code",
   "execution_count": 11,
   "id": "6cc99f75-4f26-4ae5-8153-a6c65a45c293",
   "metadata": {},
   "outputs": [
    {
     "data": {
      "image/png": "[encoded data removed]",
      "text/plain": [
       "<Figure size 1080x720 with 4 Axes>"
      ]
     },
     "metadata": {
      "needs_background": "light"
     },
     "output_type": "display_data"
    }
   ],
   "source": [
    "plt.figure(1)\n",
    "plt.subplot(221)\n",
    "train['Gender'].value_counts(normalize=True).plot.bar(figsize=(15,10),title='Gender')\n",
    "plt.subplot(222)\n",
    "train['Married'].value_counts(normalize=True).plot.bar(title='Married')\n",
    "plt.subplot(223)\n",
    "train['Self_Employed'].value_counts(normalize=True).plot.bar(title='Self_Employed')\n",
    "plt.subplot(224)\n",
    "train['Credit_History'].value_counts(normalize=True).plot.bar(title='Credit_History')\n",
    "plt.show()"
   ]
  },
  {
   "cell_type": "markdown",
   "id": "8df29eb3-d770-4cc3-b3c7-014142dbfba8",
   "metadata": {},
   "source": [
    "From the bar plots above, following is inferred :\n",
    "\n",
    "1. 80% of applicants are male.\n",
    "2. 65% of the applicants are married.\n",
    "3. Around 15% are self employed.\n",
    "4. Around 85% have repaid their debts."
   ]
  },
  {
   "cell_type": "markdown",
   "id": "3afb2bb0-8d59-4a20-ae03-bd9820f4f880",
   "metadata": {},
   "source": [
    "Visualizing ordinal variables"
   ]
  },
  {
   "cell_type": "code",
   "execution_count": 12,
   "id": "7810f350-d3a5-4f29-a027-bc54388a8a5a",
   "metadata": {},
   "outputs": [
    {
     "data": {
      "image/png": "[encoded data removed]",
      "text/plain": [
       "<Figure size 1728x432 with 3 Axes>"
      ]
     },
     "metadata": {
      "needs_background": "light"
     },
     "output_type": "display_data"
    }
   ],
   "source": [
    "plt.figure(1)\n",
    "plt.subplot(131)\n",
    "train['Dependents'].value_counts(normalize=True).plot.bar(figsize=(24,6),title='Dependents')\n",
    "plt.subplot(132)\n",
    "train['Education'].value_counts(normalize=True).plot.bar(title='Education')\n",
    "plt.subplot(133)\n",
    "train['Property_Area'].value_counts(normalize=True).plot.bar(title='Property_Area')\n",
    "plt.show()"
   ]
  },
  {
   "cell_type": "markdown",
   "id": "eb9103f8-cb32-442d-8697-607893956d83",
   "metadata": {},
   "source": [
    "Inference :\n",
    "\n",
    "1. Most applicants have no dependents. This means that most applicants are fairly young.\n",
    "2. Around 80% of applicants are graduate.\n",
    "3. Most applicants are from semi-urban areas."
   ]
  },
  {
   "cell_type": "markdown",
   "id": "ebc698d3-7a25-4143-b3a0-65ab288eb6fa",
   "metadata": {},
   "source": [
    "Visualizing numerical variables"
   ]
  },
  {
   "cell_type": "code",
   "execution_count": 13,
   "id": "465de4b9-3569-4ba8-9055-521cdbf76214",
   "metadata": {},
   "outputs": [
    {
     "data": {
      "image/png": "[encoded data removed]",
      "text/plain": [
       "<Figure size 1152x360 with 2 Axes>"
      ]
     },
     "metadata": {
      "needs_background": "light"
     },
     "output_type": "display_data"
    }
   ],
   "source": [
    "plt.figure(1)\n",
    "plt.subplot(121)\n",
    "sns.distplot(train['ApplicantIncome'])\n",
    "plt.subplot(122)\n",
    "train['ApplicantIncome'].plot.box(figsize=(16,5))\n",
    "plt.show()"
   ]
  },
  {
   "cell_type": "markdown",
   "id": "d44c7d3b-1f14-46af-9a6b-28b1dee7f293",
   "metadata": {},
   "source": [
    "Most of the data in the above distribution of applicant income is right-skewed or positively skewed, that is, it's not normally distributed."
   ]
  },
  {
   "cell_type": "markdown",
   "id": "cbefb49c-2f82-4969-a5e9-fcacd43e73af",
   "metadata": {},
   "source": [
    "The boxplot shows the presence of lot of outliers/extreme values. This can be attributed to income disparity in the society. Part of this can be driven by the fact that we are looking at people with different education levels. Let us segregate them by Education :"
   ]
  },
  {
   "cell_type": "code",
   "execution_count": 14,
   "id": "3880a72c-f80e-4515-9a31-8d8c300a2d94",
   "metadata": {},
   "outputs": [
    {
     "data": {
      "text/plain": [
       "Text(0.5, 0.98, '')"
      ]
     },
     "execution_count": 14,
     "metadata": {},
     "output_type": "execute_result"
    },
    {
     "data": {
      "image/png": "[encoded data removed]",
      "text/plain": [
       "<Figure size 432x288 with 1 Axes>"
      ]
     },
     "metadata": {
      "needs_background": "light"
     },
     "output_type": "display_data"
    }
   ],
   "source": [
    "train.boxplot(column=\"ApplicantIncome\", by=\"Education\")\n",
    "plt.suptitle(\"\")"
   ]
  },
  {
   "cell_type": "markdown",
   "id": "55e26f4b-5bb4-486a-ab39-2eda2b9fafa1",
   "metadata": {},
   "source": [
    "From above, we see that there are high number of graduates with very high income which are outliers."
   ]
  },
  {
   "cell_type": "code",
   "execution_count": 15,
   "id": "f257e220-3734-489d-844e-acfde1813983",
   "metadata": {},
   "outputs": [
    {
     "data": {
      "image/png": "[encoded data removed]",
      "text/plain": [
       "<Figure size 1152x360 with 2 Axes>"
      ]
     },
     "metadata": {
      "needs_background": "light"
     },
     "output_type": "display_data"
    }
   ],
   "source": [
    "# Coapplicant Income distribution\n",
    "plt.figure(1)\n",
    "plt.subplot(121)\n",
    "sns.distplot(train['CoapplicantIncome'])\n",
    "plt.subplot(122)\n",
    "train['CoapplicantIncome'].plot.box(figsize=(16,5))\n",
    "plt.show()"
   ]
  },
  {
   "cell_type": "markdown",
   "id": "f89896ef-2c6b-4034-b2f0-fecc80975540",
   "metadata": {},
   "source": [
    "The distribution of coapplicant's income is similar to the distribution of applicant's income."
   ]
  },
  {
   "cell_type": "code",
   "execution_count": 16,
   "id": "292a1834-1c69-4153-848d-bfd02f4ffbfc",
   "metadata": {},
   "outputs": [
    {
     "data": {
      "image/png": "[encoded data removed]",
      "text/plain": [
       "<Figure size 1152x360 with 2 Axes>"
      ]
     },
     "metadata": {
      "needs_background": "light"
     },
     "output_type": "display_data"
    }
   ],
   "source": [
    "# Loan Amount distribution\n",
    "plt.figure(1)\n",
    "plt.subplot(121)\n",
    "df = train.dropna()\n",
    "sns.distplot(train['LoanAmount'])\n",
    "plt.subplot(122)\n",
    "train['LoanAmount'].plot.box(figsize=(16,5))\n",
    "plt.show()"
   ]
  },
  {
   "cell_type": "markdown",
   "id": "c7b92095-4b17-48cf-8bd6-9f1b43a77bb5",
   "metadata": {},
   "source": [
    "The distribution is fairly normal and has lot of outliers. Next, we see how each feature correlates with each Loan status."
   ]
  },
  {
   "cell_type": "markdown",
   "id": "ac97edb3-e3ad-4363-94a8-244375e057b2",
   "metadata": {},
   "source": [
    "# Bivariate Analysis"
   ]
  },
  {
   "cell_type": "markdown",
   "id": "7f1f75f3-65e1-449d-92e8-f0eba0a09414",
   "metadata": {},
   "source": [
    "We will test the following hypotheses using bivariate analysis\n",
    "\n",
    "* Applicants with high income should have more chances of loan approval\n",
    "* Applicants who have repaid their previous debts should have higher chance of loan approval\n",
    "* Loan approval should also depend on the loan amount\n",
    "* Lesser the amount to be paid monthly to repay the loan, higher the chances of loan approval"
   ]
  },
  {
   "cell_type": "markdown",
   "id": "de377dec-3804-491e-beab-5ec8f00a5f32",
   "metadata": {},
   "source": [
    "## Categorical Independent Variable vs Target variable"
   ]
  },
  {
   "cell_type": "markdown",
   "id": "35e2b9ec-1e03-47d3-95d9-dd17ca5826b5",
   "metadata": {},
   "source": [
    "### Gender and Loan Status"
   ]
  },
  {
   "cell_type": "code",
   "execution_count": 17,
   "id": "890fe540-5033-4364-b66e-1aad9ccf2853",
   "metadata": {},
   "outputs": [
    {
     "data": {
      "image/png": "[encoded data removed]",
      "text/plain": [
       "<Figure size 432x432 with 1 Axes>"
      ]
     },
     "metadata": {
      "needs_background": "light"
     },
     "output_type": "display_data"
    }
   ],
   "source": [
    "Gender = pd.crosstab(train['Gender'],train['Loan_Status'])\n",
    "Gender.div(Gender.sum(1).astype(float), axis=0).plot(kind=\"bar\", stacked=True, figsize=(6,6))\n",
    "plt.show()"
   ]
  },
  {
   "cell_type": "markdown",
   "id": "7682a909-4da5-4e5a-a8d3-5bce8853e5cd",
   "metadata": {},
   "source": [
    "It can be concluded that the proportion of both male and female applicants is more or less the same for both approved and unapproved loans."
   ]
  },
  {
   "cell_type": "code",
   "execution_count": 18,
   "id": "1d53cc2b-0b0b-4724-9395-f2659a9c3c14",
   "metadata": {},
   "outputs": [
    {
     "data": {
      "text/plain": [
       "<Figure size 432x288 with 0 Axes>"
      ]
     },
     "metadata": {},
     "output_type": "display_data"
    },
    {
     "data": {
      "image/png": "[encoded data removed]",
      "text/plain": [
       "<Figure size 432x288 with 1 Axes>"
      ]
     },
     "metadata": {
      "needs_background": "light"
     },
     "output_type": "display_data"
    },
    {
     "data": {
      "image/png": "[encoded data removed]",
      "text/plain": [
       "<Figure size 432x288 with 1 Axes>"
      ]
     },
     "metadata": {
      "needs_background": "light"
     },
     "output_type": "display_data"
    },
    {
     "data": {
      "image/png": "[encoded data removed]",
      "text/plain": [
       "<Figure size 432x288 with 1 Axes>"
      ]
     },
     "metadata": {
      "needs_background": "light"
     },
     "output_type": "display_data"
    },
    {
     "data": {
      "image/png": "[encoded data removed]",
      "text/plain": [
       "<Figure size 432x288 with 1 Axes>"
      ]
     },
     "metadata": {
      "needs_background": "light"
     },
     "output_type": "display_data"
    }
   ],
   "source": [
    "plt.figure(1)\n",
    "# Married vs Loan Status\n",
    "Married = pd.crosstab(train['Married'],train['Loan_Status'])\n",
    "# Dependents vs Loan Status\n",
    "Dependents = pd.crosstab(train['Dependents'],train['Loan_Status'])\n",
    "# Education vs Loan Status\n",
    "Education = pd.crosstab(train['Education'],train['Loan_Status'])\n",
    "# Self_Employed Status vs Loan Status\n",
    "Self_Employed = pd.crosstab(train['Self_Employed'],train['Loan_Status'])\n",
    "\n",
    "Married.div(Married.sum(1).astype(float), axis=0).plot(kind=\"bar\", stacked=True)\n",
    "plt.show()\n",
    "\n",
    "Dependents.div(Dependents.sum(1).astype(float), axis=0).plot(kind=\"bar\", stacked=True)\n",
    "plt.show()\n",
    "\n",
    "Education.div(Education.sum(1).astype(float), axis=0).plot(kind=\"bar\", stacked=True)\n",
    "plt.show()\n",
    "\n",
    "Self_Employed.div(Self_Employed.sum(1).astype(float), axis=0).plot(kind=\"bar\", stacked=True)\n",
    "plt.show()"
   ]
  },
  {
   "cell_type": "markdown",
   "id": "b128deca-02a3-4021-a55c-c3860e80ae3c",
   "metadata": {},
   "source": [
    "We see that\n",
    "\n",
    "* Proportion of unmarried applicants having unapproved loans is higher compared to married applicants. So, being married is more preferable than being unmarried especially when applying for loans.\n",
    "* Proportion of applicants with 2 dependents is higher for the approved loans"
   ]
  },
  {
   "cell_type": "code",
   "execution_count": 19,
   "id": "c843a4ec-451e-4cb2-819f-1ab06ece713b",
   "metadata": {},
   "outputs": [
    {
     "data": {
      "image/png": "[encoded data removed]",
      "text/plain": [
       "<Figure size 432x288 with 1 Axes>"
      ]
     },
     "metadata": {
      "needs_background": "light"
     },
     "output_type": "display_data"
    },
    {
     "data": {
      "image/png": "[encoded data removed]",
      "text/plain": [
       "<Figure size 432x288 with 1 Axes>"
      ]
     },
     "metadata": {
      "needs_background": "light"
     },
     "output_type": "display_data"
    }
   ],
   "source": [
    "# Credit History vs Loan Status\n",
    "Credit_History = pd.crosstab(train['Credit_History'],train['Loan_Status'])\n",
    "# Property_Area vs Loan Status\n",
    "Property_Area = pd.crosstab(train['Property_Area'],train['Loan_Status'])\n",
    "\n",
    "Credit_History.div(Credit_History.sum(1).astype(float), axis=0).plot(kind=\"bar\", stacked=True)\n",
    "plt.show()\n",
    "\n",
    "Property_Area.div(Property_Area.sum(1).astype(float), axis=0).plot(kind=\"bar\", stacked=True)\n",
    "plt.show()"
   ]
  },
  {
   "cell_type": "markdown",
   "id": "3a28eff9-4562-415b-b4ba-830acef23dd0",
   "metadata": {},
   "source": [
    "* Applicants with credit history are more likely to get their loans approved\n",
    "* Semi-urban areas have higher chances of loan approval than rural and urban areas"
   ]
  },
  {
   "cell_type": "markdown",
   "id": "ef2e5a07-c50d-4b1a-9d37-2b97465bfce2",
   "metadata": {},
   "source": [
    "## Numerical Independent variable vs Target variable"
   ]
  },
  {
   "cell_type": "markdown",
   "id": "400751e8-0207-4436-b7f9-6df9d139e009",
   "metadata": {},
   "source": [
    "Let's compare the mean income of applicants whose loan has been approved with the ones not having their loan approved"
   ]
  },
  {
   "cell_type": "code",
   "execution_count": 20,
   "id": "834b0da9-9cad-4a0b-b8e3-169379a7599f",
   "metadata": {},
   "outputs": [
    {
     "data": {
      "image/png": "[encoded data removed]",
      "text/plain": [
       "<Figure size 432x288 with 1 Axes>"
      ]
     },
     "metadata": {
      "needs_background": "light"
     },
     "output_type": "display_data"
    }
   ],
   "source": [
    "train.groupby('Loan_Status')['ApplicantIncome'].mean().plot.bar()\n",
    "plt.ylabel('Mean Applicant Income')\n",
    "plt.show()"
   ]
  },
  {
   "cell_type": "markdown",
   "id": "31d4f568-f1b4-440a-aad4-5bb6f5997ba3",
   "metadata": {},
   "source": [
    "There is no change in the mean income irrespective of the loan status. Let us make bins for the applicant income variable based on the values in it and analyze the corresponding loan status for each bin."
   ]
  },
  {
   "cell_type": "markdown",
   "id": "94402b4b-f06b-45ea-862c-2e345a3b2c9d",
   "metadata": {},
   "source": [
    "### Applicant Income vs Loan Status"
   ]
  },
  {
   "cell_type": "code",
   "execution_count": 21,
   "id": "1035a566-3a30-4a6f-91e1-6eaa38ae4f93",
   "metadata": {},
   "outputs": [
    {
     "data": {
      "image/png": "[encoded data removed]",
      "text/plain": [
       "<Figure size 432x288 with 1 Axes>"
      ]
     },
     "metadata": {
      "needs_background": "light"
     },
     "output_type": "display_data"
    }
   ],
   "source": [
    "bins = [0,2500,4000, 6000, 81000]\n",
    "group = ['Low', 'Average', 'High', 'Very high']\n",
    "train['Income_bin'] = pd.cut(train['ApplicantIncome'], bins, labels=group)\n",
    "\n",
    "Income_bin = pd.crosstab(train['Income_bin'], train['Loan_Status'])\n",
    "Income_bin.div(Income_bin.sum(1).astype(float), axis=0).plot(kind=\"bar\", stacked=True)\n",
    "plt.xlabel('Applicant Income')\n",
    "P = plt.ylabel('Percentage')\n",
    "plt.show()"
   ]
  },
  {
   "cell_type": "markdown",
   "id": "1e84f8e1-1dbe-49a4-bd6c-b1fee89aeac1",
   "metadata": {},
   "source": [
    "We see that there is no effect of applicant income on the chances of loan approval. So, our hypothesis that higher income of applicant will get the loan approved is incorrect."
   ]
  },
  {
   "cell_type": "markdown",
   "id": "4d56795d-069b-41b5-91de-5a4cee4f5486",
   "metadata": {},
   "source": [
    "### Co-applicant income and Loan Status"
   ]
  },
  {
   "cell_type": "code",
   "execution_count": 22,
   "id": "49ca4748-2f1c-4359-b5f0-145f0fe7e78f",
   "metadata": {},
   "outputs": [
    {
     "data": {
      "image/png": "[encoded data removed]",
      "text/plain": [
       "<Figure size 432x288 with 1 Axes>"
      ]
     },
     "metadata": {
      "needs_background": "light"
     },
     "output_type": "display_data"
    }
   ],
   "source": [
    "bins = [0,1000,3200, 42000]\n",
    "group = ['Low', 'Average', 'High']\n",
    "train['Coapplicant_Income_bin'] = pd.cut(train['CoapplicantIncome'], bins, labels=group)\n",
    "\n",
    "Coapplicant_Income_bin = pd.crosstab(train['Coapplicant_Income_bin'], train['Loan_Status'])\n",
    "Coapplicant_Income_bin.div(Coapplicant_Income_bin.sum(1).astype(float), axis=0).plot(kind=\"bar\")\n",
    "plt.xlabel('Coapplicant Income')\n",
    "P = plt.ylabel('Percentage')\n",
    "plt.show()"
   ]
  },
  {
   "cell_type": "markdown",
   "id": "785d84fa-e8a5-496f-aa68-bf4ffdc1f0cb",
   "metadata": {},
   "source": [
    "This shows that if the coapplicant's income is less, then the chances of loan approval are high. This looks absurd. The reason behind this could be that most of the applicants don't have a coapplicant, so the coapplicant income is zero for these applicants. So, the loan approval does not depend on coapplicant income. So, to get a better idea, we will combine the applicant's and coapplicant's income to visualize the combined effect on loan approval. "
   ]
  },
  {
   "cell_type": "markdown",
   "id": "ce4201ab-1762-4532-ad7a-4ef2a32a320f",
   "metadata": {},
   "source": [
    "### Total Income and Loan Status"
   ]
  },
  {
   "cell_type": "code",
   "execution_count": 23,
   "id": "260540ca-9d38-4f86-b929-3e6a32e90e6b",
   "metadata": {},
   "outputs": [
    {
     "data": {
      "image/png": "[encoded data removed]",
      "text/plain": [
       "<Figure size 432x288 with 1 Axes>"
      ]
     },
     "metadata": {
      "needs_background": "light"
     },
     "output_type": "display_data"
    }
   ],
   "source": [
    "# total income\n",
    "train['Total_income'] = train['ApplicantIncome']+train['CoapplicantIncome']\n",
    "\n",
    "bins = [0, 2500, 4000, 6000, 81000]\n",
    "group = ['Low', 'Average', 'High', 'Very High']\n",
    "train['Total_Income_bin'] = pd.cut(train['Total_income'], bins, labels=group)\n",
    "\n",
    "Total_Income_bin = pd.crosstab(train['Total_Income_bin'], train['Loan_Status'])\n",
    "Total_Income_bin.div(Total_Income_bin.sum(1).astype(float), axis=0).plot(kind=\"bar\")\n",
    "plt.xlabel('Total Income')\n",
    "P = plt.ylabel('Percentage')\n",
    "plt.show()"
   ]
  },
  {
   "cell_type": "markdown",
   "id": "2e51a79f-5b8f-4da0-9372-42fc5f60164a",
   "metadata": {},
   "source": [
    "We see that the applicants having low total income have less chances of loan approval compared to applicants having average, high, and very high total income."
   ]
  },
  {
   "cell_type": "markdown",
   "id": "6c2ec281-6fa8-411c-adfe-62baf1b6fd09",
   "metadata": {},
   "source": [
    "### Loan Amount and Loan Status"
   ]
  },
  {
   "cell_type": "code",
   "execution_count": 24,
   "id": "6132059e-ff31-411f-80b3-2b3da1cc5dec",
   "metadata": {},
   "outputs": [
    {
     "data": {
      "image/png": "[encoded data removed]",
      "text/plain": [
       "<Figure size 432x288 with 1 Axes>"
      ]
     },
     "metadata": {
      "needs_background": "light"
     },
     "output_type": "display_data"
    }
   ],
   "source": [
    "bins = [0, 100, 200, 700]\n",
    "group = ['Low', 'Average', 'High']\n",
    "train['Loan_Amount_bin'] = pd.cut(train['LoanAmount'], bins, labels=group)\n",
    "\n",
    "Loan_Amount_bin = pd.crosstab(train['Loan_Amount_bin'], train['Loan_Status'])\n",
    "Loan_Amount_bin.div(Loan_Amount_bin.sum(1).astype(float), axis=0).plot(kind=\"bar\", stacked=True)\n",
    "plt.xlabel('Loan Amount')\n",
    "P = plt.ylabel('Percentage')\n",
    "plt.show()"
   ]
  },
  {
   "cell_type": "markdown",
   "id": "72f39699-9577-4a8e-a897-3b68c4003a28",
   "metadata": {},
   "source": [
    "Our hypothesis that the chances of loan approval will be high when the loan amount is less, is correct."
   ]
  },
  {
   "cell_type": "code",
   "execution_count": 25,
   "id": "97848aa1-a7c4-4781-b5a3-51ec11c5bb41",
   "metadata": {
    "tags": []
   },
   "outputs": [],
   "source": [
    "# drop the bins created in the exploration part\n",
    "train = train.drop(['Income_bin','Coapplicant_Income_bin','Total_Income_bin','Loan_Amount_bin'],axis=1)\n",
    "\n",
    "# replace'3+' in dependents column as '3' to fit the data in the model\n",
    "train['Dependents'].replace('3+',3, inplace=True)\n",
    "test['Dependents'].replace('3+',3, inplace=True)\n",
    "\n",
    "# replace 'N' with 0 and 'Y' with 1\n",
    "train['Loan_Status'].replace('N',0,inplace=True)\n",
    "train['Loan_Status'].replace('Y',1, inplace=True)\n",
    "\n",
    "# replace Male with 1 and female with 0\n",
    "train['Gender'] = train['Gender'].map({'Male':1, 'Female':0})\n",
    "test['Gender'] = test['Gender'].map({'Male':1, 'Female':0})\n",
    "\n",
    "# replace in Married column : Yes with 1, No with 0\n",
    "train['Married'] = train['Married'].map({'Yes':1, 'No':0})\n",
    "test['Married'] = test['Married'].map({'Yes':1, 'No':0})\n",
    "\n",
    "# replace in Education : Graduate as 1, Not grad as 0\n",
    "train['Education'] = train['Education'].map({'Graduate':1, 'Not Graduate':0})\n",
    "test['Education'] = test['Education'].map({'Graduate':1, 'Not Graduate':0})\n",
    "\n",
    "# replace in Self_Employed : Yes with 1, No with 0\n",
    "train['Self_Employed'] = train['Self_Employed'].map({'Yes':1, 'No':0})\n",
    "test['Self_Employed'] = test['Self_Employed'].map({'Yes':1, 'No':0})\n",
    "\n",
    "# replace in Property_Area : Urban with 2, Rural with 0, Semi-urban with 1\n",
    "train['Property_Area'] = train['Property_Area'].map({'Urban':2, 'Rural':0, 'Semiurban':1})\n",
    "test['Property_Area'] = test['Property_Area'].map({'Urban':2, 'Rural':0, 'Semiurban':1})"
   ]
  },
  {
   "cell_type": "markdown",
   "id": "42fb74b7-be97-414f-b943-9b97a3bf1154",
   "metadata": {},
   "source": [
    "### Correlation among numerical variables"
   ]
  },
  {
   "cell_type": "code",
   "execution_count": 26,
   "id": "2a684170-1a8c-46cd-a5aa-ba78c5f91bb0",
   "metadata": {},
   "outputs": [
    {
     "data": {
      "image/png": "[encoded data removed]",
      "text/plain": [
       "<Figure size 648x432 with 2 Axes>"
      ]
     },
     "metadata": {
      "needs_background": "light"
     },
     "output_type": "display_data"
    }
   ],
   "source": [
    "matrix = train.corr()\n",
    "fig, ax = plt.subplots(figsize=(9,6))\n",
    "sns.heatmap(matrix, vmax=.8, square=True, cmap=\"BuPu\")\n",
    "plt.show()"
   ]
  },
  {
   "cell_type": "markdown",
   "id": "93c46e71-cba6-494b-9c10-9f8330ad5007",
   "metadata": {},
   "source": [
    "* It can be inferred that the credit history is correlated to the loan status, as observed earlier.\n",
    "* Applicant Income is correlated to Loan Amount\n",
    "* Coapplicant Income is also correlated to the Loan Amount."
   ]
  },
  {
   "cell_type": "markdown",
   "id": "d9aaa5cb-f04e-41ef-bd81-e7b908c845cd",
   "metadata": {},
   "source": [
    "# Data Preprocessing"
   ]
  },
  {
   "cell_type": "markdown",
   "id": "98055d5b-ce84-496c-8387-9a2ddee8a1c4",
   "metadata": {},
   "source": [
    "We will now check if there are anu missing values or outliers. We will impute any missing values and remove outliers so that they do not affect the model performance."
   ]
  },
  {
   "cell_type": "code",
   "execution_count": 27,
   "id": "92be4c6b-c7a0-4b54-b23c-f07db41878f3",
   "metadata": {},
   "outputs": [
    {
     "data": {
      "text/plain": [
       "Loan_ID               0\n",
       "Gender               13\n",
       "Married               3\n",
       "Dependents           15\n",
       "Education             0\n",
       "Self_Employed        32\n",
       "ApplicantIncome       0\n",
       "CoapplicantIncome     0\n",
       "LoanAmount           22\n",
       "Loan_Amount_Term     14\n",
       "Credit_History       50\n",
       "Property_Area         0\n",
       "Loan_Status           0\n",
       "Total_income          0\n",
       "dtype: int64"
      ]
     },
     "execution_count": 27,
     "metadata": {},
     "output_type": "execute_result"
    }
   ],
   "source": [
    "train.isnull().sum()"
   ]
  },
  {
   "cell_type": "markdown",
   "id": "b6548449-0bd8-474a-abef-488fbb504ad3",
   "metadata": {},
   "source": [
    "We will use the following method to impute missing values :\n",
    "\n",
    "* **For numerical variables :** impute using mean/median\n",
    "* **For categorical variables :** impute using mode"
   ]
  },
  {
   "cell_type": "code",
   "execution_count": 28,
   "id": "bdb85e33-454b-44a2-8582-dcebebb1dcb0",
   "metadata": {},
   "outputs": [],
   "source": [
    "train['Gender'].fillna(train['Gender'].mode()[0],inplace=True)\n",
    "train['Married'].fillna(train['Married'].mode()[0],inplace=True)\n",
    "train['Dependents'].fillna(train['Dependents'].mode()[0],inplace=True)\n",
    "train['Self_Employed'].fillna(train['Self_Employed'].mode()[0],inplace=True)\n",
    "train['Credit_History'].fillna(train['Credit_History'].mode()[0],inplace=True)"
   ]
  },
  {
   "cell_type": "code",
   "execution_count": 29,
   "id": "22afca14-d9da-4c74-ab3e-175a624ff4d4",
   "metadata": {},
   "outputs": [],
   "source": [
    "# Next, we find a way to fill the missing values in the Loan Amount term feature\n",
    "\n",
    "# value counts of the Loan Amount term variable\n",
    "train['Loan_Amount_Term'].value_counts()\n",
    "\n",
    "# impute the missing values in this column with '360' since it has the highest value count\n",
    "train['Loan_Amount_Term'].fillna(train['Loan_Amount_Term'].mode()[0], inplace=True)"
   ]
  },
  {
   "cell_type": "markdown",
   "id": "00761a5e-f534-415b-8bf6-6fabf2e7688c",
   "metadata": {},
   "source": [
    "Next, we impute the numerical variable 'LoanAmount' with median as it also has outliers and the mean is not a good approach as it is highly affected \n",
    "by outliers."
   ]
  },
  {
   "cell_type": "code",
   "execution_count": 30,
   "id": "c449539e-bb6a-40b9-9d8f-55dd73b6d0aa",
   "metadata": {},
   "outputs": [],
   "source": [
    "train['LoanAmount'].fillna(train['LoanAmount'].median(),inplace=True)"
   ]
  },
  {
   "cell_type": "code",
   "execution_count": 31,
   "id": "ab004162-c7ff-4788-8599-d9e2d7a44218",
   "metadata": {},
   "outputs": [
    {
     "data": {
      "text/plain": [
       "Loan_ID              0\n",
       "Gender               0\n",
       "Married              0\n",
       "Dependents           0\n",
       "Education            0\n",
       "Self_Employed        0\n",
       "ApplicantIncome      0\n",
       "CoapplicantIncome    0\n",
       "LoanAmount           0\n",
       "Loan_Amount_Term     0\n",
       "Credit_History       0\n",
       "Property_Area        0\n",
       "Loan_Status          0\n",
       "Total_income         0\n",
       "dtype: int64"
      ]
     },
     "execution_count": 31,
     "metadata": {},
     "output_type": "execute_result"
    }
   ],
   "source": [
    "# check if there are any missing value still left in the data\n",
    "train.isnull().sum()"
   ]
  },
  {
   "cell_type": "markdown",
   "id": "3d3455f8-65e6-44ee-a947-a72931a7b466",
   "metadata": {},
   "source": [
    "We have imputed all missing values. So, we now impute the missing values from the test data with same approach as above."
   ]
  },
  {
   "cell_type": "code",
   "execution_count": 32,
   "id": "07b78678-814a-4ef5-89d4-e257bc2e3bde",
   "metadata": {},
   "outputs": [],
   "source": [
    "test['Gender'].fillna(train['Gender'].mode()[0],inplace=True)\n",
    "test['Married'].fillna(train['Married'].mode()[0],inplace=True)\n",
    "test['Dependents'].fillna(train['Dependents'].mode()[0],inplace=True)\n",
    "test['Self_Employed'].fillna(train['Self_Employed'].mode()[0],inplace=True)\n",
    "test['Credit_History'].fillna(train['Credit_History'].mode()[0],inplace=True)\n",
    "test['Loan_Amount_Term'].fillna(train['Loan_Amount_Term'].mode()[0], inplace=True)\n",
    "test['LoanAmount'].fillna(train['LoanAmount'].median(),inplace=True)"
   ]
  },
  {
   "cell_type": "code",
   "execution_count": 33,
   "id": "a1a53bef-45f4-4d08-bf1f-9a5d5885625c",
   "metadata": {},
   "outputs": [
    {
     "data": {
      "text/plain": [
       "Loan_ID              0\n",
       "Gender               0\n",
       "Married              0\n",
       "Dependents           0\n",
       "Education            0\n",
       "Self_Employed        0\n",
       "ApplicantIncome      0\n",
       "CoapplicantIncome    0\n",
       "LoanAmount           0\n",
       "Loan_Amount_Term     0\n",
       "Credit_History       0\n",
       "Property_Area        0\n",
       "dtype: int64"
      ]
     },
     "execution_count": 33,
     "metadata": {},
     "output_type": "execute_result"
    }
   ],
   "source": [
    "test.isnull().sum()"
   ]
  },
  {
   "cell_type": "markdown",
   "id": "d9e2df32-8bd2-4ae2-aa8b-663b65420df1",
   "metadata": {},
   "source": [
    "### Outlier Treatment"
   ]
  },
  {
   "cell_type": "markdown",
   "id": "4bc98382-afb9-4b19-8c95-562b39b9e5c7",
   "metadata": {},
   "source": [
    "Having outliers in the data can have a significant effect on the mean and the standard deviation and thus, affecting the distribution."
   ]
  },
  {
   "cell_type": "code",
   "execution_count": 34,
   "id": "3ca56496-e4bf-48ee-b4aa-276f6233a0ca",
   "metadata": {},
   "outputs": [
    {
     "data": {
      "image/png": "[encoded data removed]",
      "text/plain": [
       "<Figure size 432x288 with 1 Axes>"
      ]
     },
     "metadata": {
      "needs_background": "light"
     },
     "output_type": "display_data"
    }
   ],
   "source": [
    "train['LoanAmount'].hist(bins=20)\n",
    "plt.show()"
   ]
  },
  {
   "cell_type": "markdown",
   "id": "a2e86bf9-5c2e-4b54-87d9-19aa1074d912",
   "metadata": {},
   "source": [
    "We see that the bulk of the data is on the left and the right tail is longer. This is called **right-skewness**. So, we will apply log transfomation on this column. After log transformation, we will get a distribution similar to normal distribution."
   ]
  },
  {
   "cell_type": "code",
   "execution_count": 35,
   "id": "b04e375b-796a-4793-a093-78223173d9fa",
   "metadata": {},
   "outputs": [
    {
     "data": {
      "image/png": "[encoded data removed]",
      "text/plain": [
       "<Figure size 432x288 with 1 Axes>"
      ]
     },
     "metadata": {
      "needs_background": "light"
     },
     "output_type": "display_data"
    }
   ],
   "source": [
    "train['LoanAmount_log'] = np.log(train['LoanAmount'])\n",
    "train['LoanAmount_log'].hist(bins=20)\n",
    "plt.show()"
   ]
  },
  {
   "cell_type": "code",
   "execution_count": 36,
   "id": "6a53f7fc-243d-42df-afbe-9999bd6142a4",
   "metadata": {},
   "outputs": [],
   "source": [
    "test['LoanAmount_log'] = np.log(test['LoanAmount'])"
   ]
  },
  {
   "cell_type": "markdown",
   "id": "3ac1975d-538d-4675-9fad-87d3312ccc70",
   "metadata": {},
   "source": [
    "Next, we will build logistic regresson model and make predictions"
   ]
  },
  {
   "cell_type": "markdown",
   "id": "749b0f88-5236-4863-a031-f320f2b12ca4",
   "metadata": {},
   "source": [
    "## Model Building 1 - Logistic Regression"
   ]
  },
  {
   "cell_type": "code",
   "execution_count": 39,
   "id": "8d556c29-5c3c-4244-ac2a-d97bfabb7ffc",
   "metadata": {
    "tags": []
   },
   "outputs": [],
   "source": [
    "# drop the target variable from the 'LoanID' variable as it has no effect on 'LoanStatus'\n",
    "train = train.drop(['Loan_ID','Total_income'],axis=1)"
   ]
  },
  {
   "cell_type": "code",
   "execution_count": 40,
   "id": "3a6bfe9e-6d30-4144-b199-090a2bb0866f",
   "metadata": {},
   "outputs": [],
   "source": [
    "test = test.drop('Loan_ID',axis=1)"
   ]
  },
  {
   "cell_type": "code",
   "execution_count": 41,
   "id": "0112a662-4cb6-48d4-be2a-cac2c024d3ad",
   "metadata": {},
   "outputs": [],
   "source": [
    "# store the target variable in another dataset\n",
    "X = train.drop('Loan_Status',axis=1)\n",
    "y = train['Loan_Status']"
   ]
  },
  {
   "cell_type": "markdown",
   "id": "4f88762f-d435-4119-ad2b-77ede193bf75",
   "metadata": {},
   "source": [
    "### Splitting the dataset into train and validation data"
   ]
  },
  {
   "cell_type": "code",
   "execution_count": 42,
   "id": "c5041a77-966c-40b2-897a-1a7515cc7b55",
   "metadata": {},
   "outputs": [],
   "source": [
    "from sklearn.model_selection import train_test_split\n",
    "\n",
    "X_train, X_cv, y_train, y_cv = train_test_split(X, y, test_size=0.3)"
   ]
  },
  {
   "cell_type": "code",
   "execution_count": 43,
   "id": "2355970c-61e5-4cfd-9f11-1f44670f3cc4",
   "metadata": {},
   "outputs": [
    {
     "data": {
      "text/plain": [
       "LogisticRegression()"
      ]
     },
     "execution_count": 43,
     "metadata": {},
     "output_type": "execute_result"
    }
   ],
   "source": [
    "from sklearn.linear_model import LogisticRegression\n",
    "\n",
    "model = LogisticRegression()\n",
    "model.fit(X_train, y_train)"
   ]
  },
  {
   "cell_type": "markdown",
   "id": "a09d84c5-1c96-4cfe-9834-f127431dc0f9",
   "metadata": {},
   "source": [
    "Here C=1.0 represents the inverse of regularization strength. Regularization is the penalty applied to increasing the magnitude of parameter values. This is done to reduce overfitting of the model on the training data. Smaller values of C signify stronger regularization."
   ]
  },
  {
   "cell_type": "code",
   "execution_count": 44,
   "id": "f205dbaa-f294-43f3-aa35-e0bc44ee54f2",
   "metadata": {},
   "outputs": [],
   "source": [
    "# predict Loan Status on validation data\n",
    "pred_cv = model.predict(X_cv)"
   ]
  },
  {
   "cell_type": "code",
   "execution_count": 45,
   "id": "0ccb601b-e584-480a-bfe9-6e6979b03a23",
   "metadata": {},
   "outputs": [
    {
     "data": {
      "text/plain": [
       "0.7675675675675676"
      ]
     },
     "execution_count": 45,
     "metadata": {},
     "output_type": "execute_result"
    }
   ],
   "source": [
    "# find accuracy score\n",
    "from sklearn.metrics import accuracy_score\n",
    "accuracy_score(y_cv, pred_cv)"
   ]
  },
  {
   "cell_type": "markdown",
   "id": "3514c25f-da73-4f75-b98d-423420c9aaf1",
   "metadata": {},
   "source": [
    "## Predict Loan Status on test data"
   ]
  },
  {
   "cell_type": "code",
   "execution_count": 46,
   "id": "10cf6449-1d5b-4e91-aa01-6fa6c66171d6",
   "metadata": {},
   "outputs": [],
   "source": [
    "pred_test = model.predict(test)"
   ]
  },
  {
   "cell_type": "code",
   "execution_count": 47,
   "id": "b665aed7-6a9e-4788-b788-42040f931f8f",
   "metadata": {},
   "outputs": [],
   "source": [
    "# import submission file 1\n",
    "submission = pd.read_csv('sample_submission_49d68Cx.csv')\n",
    "\n",
    "submission['Loan_Status'] = pred_test\n",
    "submission['Loan_ID'] = test_original['Loan_ID']"
   ]
  },
  {
   "cell_type": "code",
   "execution_count": 48,
   "id": "a03fb880-1270-469c-b19b-d124e76ef9d7",
   "metadata": {},
   "outputs": [],
   "source": [
    "# replace Y with 1 and N with 0\n",
    "submission['Loan_Status'].replace(0, 'N', inplace=True)\n",
    "submission['Loan_Status'].replace(1, 'Y', inplace=True)"
   ]
  },
  {
   "cell_type": "code",
   "execution_count": 49,
   "id": "71ee5167-76f3-4304-85a5-bcd6276725aa",
   "metadata": {},
   "outputs": [],
   "source": [
    "# new file with final submission\n",
    "pd.DataFrame(submission, columns=['Loan_ID','Loan_Status']).to_csv('logistic.csv')"
   ]
  },
  {
   "cell_type": "markdown",
   "id": "a9468ba3-21c0-4b79-86f8-929083001522",
   "metadata": {},
   "source": [
    "### Logistic Regression using Stratified k-folds cross validation"
   ]
  },
  {
   "cell_type": "code",
   "execution_count": 50,
   "id": "6e75b119-5095-4e9e-adf2-47c1915421c9",
   "metadata": {},
   "outputs": [
    {
     "name": "stdout",
     "output_type": "stream",
     "text": [
      "\n",
      "1 of kfold 5 \n",
      "accuracy_score 0.8048780487804879\n",
      "\n",
      "2 of kfold 5 \n",
      "accuracy_score 0.8373983739837398\n",
      "\n",
      "3 of kfold 5 \n",
      "accuracy_score 0.7967479674796748\n",
      "\n",
      "4 of kfold 5 \n",
      "accuracy_score 0.8211382113821138\n",
      "\n",
      "5 of kfold 5 \n",
      "accuracy_score 0.7868852459016393\n"
     ]
    }
   ],
   "source": [
    "from sklearn.model_selection import StratifiedKFold\n",
    "\n",
    "i=1\n",
    "kf = StratifiedKFold(n_splits=5, random_state=1, shuffle=True)    \n",
    "for train_index,test_index in kf.split(X,y):\n",
    "\n",
    "    print ('\\n{} of kfold {} '.format(i,kf.n_splits))\n",
    "\n",
    "    xtr,xval = X.iloc[train_index],X.iloc[test_index]\n",
    "\n",
    "    ytr,yval = y.iloc[train_index],y.iloc[test_index]\n",
    "\n",
    "    model = LogisticRegression(random_state=1)\n",
    "\n",
    "    model.fit(xtr,ytr)\n",
    "\n",
    "    pred_test=model.predict(xval)\n",
    "\n",
    "    score=accuracy_score(yval,pred_test)\n",
    "\n",
    "    print ('accuracy_score',score)\n",
    "\n",
    "    i+=1\n",
    "\n",
    "pred_test2 = model.predict(test)\n",
    "\n",
    "pred = model.predict_proba(xval)[:,1]    "
   ]
  },
  {
   "cell_type": "markdown",
   "id": "3a994bad-c4d1-4a1e-921c-d6db571eb3ba",
   "metadata": {},
   "source": [
    "### Visualizing the ROC curve"
   ]
  },
  {
   "cell_type": "code",
   "execution_count": 51,
   "id": "15d813ab-932b-49b6-b687-bcfd38fdad85",
   "metadata": {},
   "outputs": [
    {
     "data": {
      "image/png": "[encoded data removed]",
      "text/plain": [
       "<Figure size 864x576 with 1 Axes>"
      ]
     },
     "metadata": {
      "needs_background": "light"
     },
     "output_type": "display_data"
    }
   ],
   "source": [
    "from sklearn import metrics\n",
    "\n",
    "fpr, tpr, _ = metrics.roc_curve(yval, pred)\n",
    "auc = metrics.roc_auc_score(yval, pred)\n",
    "\n",
    "plt.figure(figsize=(12,8))\n",
    "plt.plot(fpr, tpr, label=\"validation, auc=\"+str(auc))\n",
    "plt.xlabel(\"False Positive Rate\")\n",
    "plt.ylabel(\"True Positive Rate\")\n",
    "plt.legend(loc=4)\n",
    "plt.show()"
   ]
  },
  {
   "cell_type": "markdown",
   "id": "7cd04b81-ebbd-4abe-a94d-6a6900c7e536",
   "metadata": {},
   "source": [
    "We get an auc value of 0.74"
   ]
  },
  {
   "cell_type": "code",
   "execution_count": 52,
   "id": "332d7d4c-d0f4-407e-b5b8-54806f28c3ce",
   "metadata": {},
   "outputs": [],
   "source": [
    "# import submission file 2\n",
    "submission['Loan_Status'] = pred_test2\n",
    "submission['Loan_ID'] = test_original['Loan_ID']\n",
    "\n",
    "submission['Loan_Status'].replace(0, 'N', inplace=True)\n",
    "submission['Loan_Status'].replace(1, 'Y', inplace=True)\n",
    "\n",
    "pd.DataFrame(submission, columns=['Loan_ID','Loan_Status']).to_csv('Logistic1.csv')"
   ]
  },
  {
   "cell_type": "markdown",
   "id": "899a319a-75fd-44a8-a61b-68ecc10d90a6",
   "metadata": {},
   "source": [
    "## Feature Engineering"
   ]
  },
  {
   "cell_type": "markdown",
   "id": "84315c66-a419-4078-8f69-d2aa7efcdb35",
   "metadata": {},
   "source": [
    "We can also make new features from existing features to make better predictions. Some new features are listed below:\n",
    "\n",
    "* Total Income - If total income (Applicant income+Coapplicant income) is high, then chanes of loan approval also become high\n",
    "* EMI - This is the monthly amount to be paid by the applicant to repay the loan. It can be calculated by taking the ratio of loan amount to the loan amount term\n",
    "* Balance Income - amount left after paying the EMI"
   ]
  },
  {
   "cell_type": "code",
   "execution_count": 53,
   "id": "b0682f6c-67d7-49fe-a326-39db133f647a",
   "metadata": {},
   "outputs": [],
   "source": [
    "train['Total_Income'] = train['ApplicantIncome'] + train['CoapplicantIncome']\n",
    "test['Total_Income'] = test['ApplicantIncome'] + test['CoapplicantIncome']"
   ]
  },
  {
   "cell_type": "code",
   "execution_count": 54,
   "id": "8c097236-6749-429d-b8d7-1f95a019c920",
   "metadata": {},
   "outputs": [
    {
     "data": {
      "text/plain": [
       "<AxesSubplot:xlabel='Total_Income', ylabel='Density'>"
      ]
     },
     "execution_count": 54,
     "metadata": {},
     "output_type": "execute_result"
    },
    {
     "data": {
      "image/png": "[encoded data removed]",
      "text/plain": [
       "<Figure size 432x288 with 1 Axes>"
      ]
     },
     "metadata": {
      "needs_background": "light"
     },
     "output_type": "display_data"
    }
   ],
   "source": [
    "sns.distplot(train['Total_Income'])"
   ]
  },
  {
   "cell_type": "markdown",
   "id": "98169d95-768d-48dc-a297-f3f9a0bb3999",
   "metadata": {},
   "source": [
    "We can see that the distribution is right-skewed. So, we take the log transformation to get normal distribution."
   ]
  },
  {
   "cell_type": "code",
   "execution_count": 55,
   "id": "936ce0d3-c449-4f8d-8d31-4d3af1b7e76a",
   "metadata": {},
   "outputs": [
    {
     "data": {
      "image/png": "[encoded data removed]",
      "text/plain": [
       "<Figure size 432x288 with 1 Axes>"
      ]
     },
     "metadata": {
      "needs_background": "light"
     },
     "output_type": "display_data"
    }
   ],
   "source": [
    "train['Total_Income_log'] = np.log(train['Total_Income'])\n",
    "sns.distplot(train['Total_Income_log'])\n",
    "test['Total_Income_log'] = np.log(test['Total_Income'])"
   ]
  },
  {
   "cell_type": "markdown",
   "id": "8eceec23-8ab2-4d1b-939c-6a1ffea618ff",
   "metadata": {},
   "source": [
    "It can be seen that the effect of extreme values has been significantly subsided."
   ]
  },
  {
   "cell_type": "code",
   "execution_count": 56,
   "id": "472af1b2-8fb7-4bd4-81be-113ba903663f",
   "metadata": {},
   "outputs": [],
   "source": [
    "train['EMI'] = train['LoanAmount']/train['Loan_Amount_Term']\n",
    "test['EMI'] = test['LoanAmount']/test['Loan_Amount_Term']"
   ]
  },
  {
   "cell_type": "code",
   "execution_count": 57,
   "id": "ec4ebd87-357e-4f4c-880b-63b99ed9268c",
   "metadata": {},
   "outputs": [
    {
     "data": {
      "text/plain": [
       "<AxesSubplot:xlabel='EMI', ylabel='Density'>"
      ]
     },
     "execution_count": 57,
     "metadata": {},
     "output_type": "execute_result"
    },
    {
     "data": {
      "image/png": "[encoded data removed]",
      "text/plain": [
       "<Figure size 432x288 with 1 Axes>"
      ]
     },
     "metadata": {
      "needs_background": "light"
     },
     "output_type": "display_data"
    }
   ],
   "source": [
    "# distribution of EMI variable\n",
    "sns.distplot(train['EMI'])"
   ]
  },
  {
   "cell_type": "code",
   "execution_count": 58,
   "id": "aefe8d86-dcb6-4ead-9008-5da1a1a95459",
   "metadata": {},
   "outputs": [],
   "source": [
    "# multiply by 1000 to make the units equal\n",
    "train['Balance_Income'] = train['Total_Income']-(train['EMI']*1000)\n",
    "test['Balance_Income'] = test['Total_Income']-(test['EMI']*1000)"
   ]
  },
  {
   "cell_type": "code",
   "execution_count": 59,
   "id": "5083c185-e20e-42bc-a9b0-9acd1e7a638f",
   "metadata": {},
   "outputs": [
    {
     "data": {
      "text/plain": [
       "<AxesSubplot:xlabel='Balance_Income', ylabel='Density'>"
      ]
     },
     "execution_count": 59,
     "metadata": {},
     "output_type": "execute_result"
    },
    {
     "data": {
      "image/png": "[encoded data removed]",
      "text/plain": [
       "<Figure size 432x288 with 1 Axes>"
      ]
     },
     "metadata": {
      "needs_background": "light"
     },
     "output_type": "display_data"
    }
   ],
   "source": [
    "# distribution of Balance income\n",
    "sns.distplot(train['Balance_Income'])"
   ]
  },
  {
   "cell_type": "markdown",
   "id": "a9d04abf-16fd-45d2-9849-52e6813ecfac",
   "metadata": {},
   "source": [
    "We will now remove the features used to create these new features. This is because the correlation between the old and the new features will be very high and Logistic regression assumes that the variables are not correlated. Removing these features will also help remove the noise too."
   ]
  },
  {
   "cell_type": "code",
   "execution_count": 62,
   "id": "a05215ae-3ee7-4030-a3f9-4832bb355487",
   "metadata": {},
   "outputs": [],
   "source": [
    "train = train.drop(['ApplicantIncome','CoapplicantIncome','LoanAmount','Loan_Amount_Term'],axis=1)\n",
    "test = test.drop(['ApplicantIncome','CoapplicantIncome','LoanAmount','Loan_Amount_Term'],axis=1)"
   ]
  },
  {
   "cell_type": "markdown",
   "id": "3218aaba-42e4-479e-b7f5-4062f8bf1a81",
   "metadata": {},
   "source": [
    "Let's prepare data to feed into the models"
   ]
  },
  {
   "cell_type": "code",
   "execution_count": 89,
   "id": "400a9fa1-5b09-4a7a-9d4a-b33e27fc29c4",
   "metadata": {},
   "outputs": [],
   "source": [
    "X = train.drop('Loan_Status',1)\n",
    "y = train.Loan_Status"
   ]
  },
  {
   "cell_type": "markdown",
   "id": "64c7cb7b-0ee7-42f2-944a-880485dcdd3b",
   "metadata": {},
   "source": [
    "## 1- Logistic Regression"
   ]
  },
  {
   "cell_type": "code",
   "execution_count": 94,
   "id": "38424f4d-9c11-4ecd-973b-92713242a22c",
   "metadata": {},
   "outputs": [
    {
     "name": "stdout",
     "output_type": "stream",
     "text": [
      "\n",
      "1 of kfold 5 \n",
      "accuracy_score 0.8130081300813008\n",
      "\n",
      "2 of kfold 5 \n",
      "accuracy_score 0.6910569105691057\n",
      "\n",
      "3 of kfold 5 \n",
      "accuracy_score 0.6666666666666666\n",
      "\n",
      "4 of kfold 5 \n",
      "accuracy_score 0.8048780487804879\n",
      "\n",
      "5 of kfold 5 \n",
      "accuracy_score 0.680327868852459\n"
     ]
    }
   ],
   "source": [
    "i=1\n",
    "kf = StratifiedKFold(n_splits=5, random_state=1, shuffle=True)    \n",
    "for train_index,test_index in kf.split(X,y):\n",
    "\n",
    "    print ('\\n{} of kfold {} '.format(i,kf.n_splits))\n",
    "\n",
    "    xtr,xval = X.iloc[train_index],X.iloc[test_index]\n",
    "\n",
    "    ytr,yval = y.iloc[train_index],y.iloc[test_index]\n",
    "\n",
    "    model = LogisticRegression(random_state=1)\n",
    "\n",
    "    model.fit(xtr,ytr)\n",
    "\n",
    "    pred_test=model.predict(xval)\n",
    "\n",
    "    score=accuracy_score(yval,pred_test)\n",
    "\n",
    "    print ('accuracy_score',score)\n",
    "\n",
    "    i+=1\n",
    "\n",
    "pred_test3 = model.predict(test)\n",
    "\n",
    "pred = model.predict_proba(xval)[:,1] "
   ]
  },
  {
   "cell_type": "code",
   "execution_count": 95,
   "id": "10e5c04f-e254-4eff-ac3d-a454f1f9021e",
   "metadata": {},
   "outputs": [],
   "source": [
    "# import submission file 3\n",
    "submission['Loan_Status'] = pred_test3\n",
    "submission['Loan_ID'] = test_original['Loan_ID']\n",
    "\n",
    "submission['Loan_Status'].replace(0, 'N', inplace=True)\n",
    "submission['Loan_Status'].replace(1, 'Y', inplace=True)\n",
    "\n",
    "pd.DataFrame(submission, columns=['Loan_ID','Loan_Status']).to_csv('Logistic2.csv')"
   ]
  },
  {
   "cell_type": "code",
   "execution_count": 96,
   "id": "ae6a19ef-2963-49b3-b20a-6745a0fcf151",
   "metadata": {},
   "outputs": [
    {
     "data": {
      "text/plain": [
       "0.731187524990004"
      ]
     },
     "execution_count": 96,
     "metadata": {},
     "output_type": "execute_result"
    }
   ],
   "source": [
    "arr1 = np.array([0.8130081300813008,0.6910569105691057,0.6666666666666666,0.8048780487804879,0.680327868852459])\n",
    "mean_acc = np.mean(arr1)\n",
    "mean_acc"
   ]
  },
  {
   "cell_type": "markdown",
   "id": "e8480243-4f66-447e-9097-bd384b1d38fc",
   "metadata": {},
   "source": [
    "Mean accuracy of Logistic Regression is 73.11%"
   ]
  },
  {
   "cell_type": "markdown",
   "id": "8155e805-3269-4b41-b0cb-4d2c26caa8d7",
   "metadata": {},
   "source": [
    "## 2- Decision Tree"
   ]
  },
  {
   "cell_type": "code",
   "execution_count": 97,
   "id": "2803c625-1a19-4332-ad2f-74447565488b",
   "metadata": {},
   "outputs": [
    {
     "name": "stdout",
     "output_type": "stream",
     "text": [
      "\n",
      "1 of kfold 5 \n",
      "accuracy_score 0.7398373983739838\n",
      "\n",
      "2 of kfold 5 \n",
      "accuracy_score 0.6910569105691057\n",
      "\n",
      "3 of kfold 5 \n",
      "accuracy_score 0.7154471544715447\n",
      "\n",
      "4 of kfold 5 \n",
      "accuracy_score 0.7235772357723578\n",
      "\n",
      "5 of kfold 5 \n",
      "accuracy_score 0.6557377049180327\n"
     ]
    }
   ],
   "source": [
    "from sklearn import tree\n",
    "\n",
    "i=1\n",
    "kf_dt = StratifiedKFold(n_splits=5, random_state=1, shuffle=True)    \n",
    "for train_index,test_index in kf_dt.split(X,y):\n",
    "\n",
    "    print ('\\n{} of kfold {} '.format(i,kf_dt.n_splits))\n",
    "\n",
    "    xtr,xval = X.iloc[train_index],X.iloc[test_index]\n",
    "\n",
    "    ytr,yval = y.iloc[train_index],y.iloc[test_index]\n",
    "        \n",
    "    model = tree.DecisionTreeClassifier(random_state=1)\n",
    "\n",
    "    model.fit(xtr,ytr)\n",
    "\n",
    "    pred_test=model.predict(xval)\n",
    "\n",
    "    score=accuracy_score(yval,pred_test)\n",
    "\n",
    "    print ('accuracy_score',score)\n",
    "\n",
    "    i+=1\n",
    "\n",
    "pred_test4 = model.predict(test)"
   ]
  },
  {
   "cell_type": "code",
   "execution_count": 98,
   "id": "5d8ab489-8112-4b59-8b07-974cd00631cd",
   "metadata": {},
   "outputs": [],
   "source": [
    "# import submission file 3\n",
    "submission['Loan_Status'] = pred_test3\n",
    "submission['Loan_ID'] = test_original['Loan_ID']\n",
    "\n",
    "submission['Loan_Status'].replace(0, 'N', inplace=True)\n",
    "submission['Loan_Status'].replace(1, 'Y', inplace=True)\n",
    "\n",
    "pd.DataFrame(submission, columns=['Loan_ID','Loan_Status']).to_csv('DecisionTree.csv')"
   ]
  },
  {
   "cell_type": "code",
   "execution_count": 99,
   "id": "7e7bd54b-330c-43c2-84c8-0b7f514bbe01",
   "metadata": {},
   "outputs": [
    {
     "data": {
      "text/plain": [
       "0.705131280821005"
      ]
     },
     "execution_count": 99,
     "metadata": {},
     "output_type": "execute_result"
    }
   ],
   "source": [
    "arr2 = np.array([0.7398373983739838,0.6910569105691057,0.7154471544715447,0.7235772357723578,0.6557377049180327])\n",
    "mean_acc2 = np.mean(arr2)\n",
    "mean_acc2"
   ]
  },
  {
   "cell_type": "markdown",
   "id": "1481aa6b-357e-4816-8311-bd5782cbf78f",
   "metadata": {},
   "source": [
    "Mean accuracy of the Decision Tree Classifier is 70.51%"
   ]
  },
  {
   "cell_type": "markdown",
   "id": "75df30fe-b14e-4246-8de6-b54334c117fa",
   "metadata": {},
   "source": [
    "## 3- Random Forest Classifier"
   ]
  },
  {
   "cell_type": "code",
   "execution_count": 100,
   "id": "dc2e9de5-4543-4824-91d9-aab93c4dbd68",
   "metadata": {},
   "outputs": [],
   "source": [
    "from sklearn.ensemble import RandomForestClassifier"
   ]
  },
  {
   "cell_type": "code",
   "execution_count": 101,
   "id": "09a8247a-758d-4202-b4c2-3d250b45ace1",
   "metadata": {},
   "outputs": [
    {
     "name": "stdout",
     "output_type": "stream",
     "text": [
      "\n",
      "1 of kfold 5 \n",
      "accuracy_score 0.8211382113821138\n",
      "\n",
      "2 of kfold 5 \n",
      "accuracy_score 0.8130081300813008\n",
      "\n",
      "3 of kfold 5 \n",
      "accuracy_score 0.8048780487804879\n",
      "\n",
      "4 of kfold 5 \n",
      "accuracy_score 0.7723577235772358\n",
      "\n",
      "5 of kfold 5 \n",
      "accuracy_score 0.7622950819672131\n"
     ]
    }
   ],
   "source": [
    "i=1\n",
    "kf_rf = StratifiedKFold(n_splits=5, random_state=1, shuffle=True)    \n",
    "for train_index,test_index in kf_rf.split(X,y):\n",
    "\n",
    "    print ('\\n{} of kfold {} '.format(i,kf_rf.n_splits))\n",
    "\n",
    "    xtr,xval = X.iloc[train_index],X.iloc[test_index]\n",
    "\n",
    "    ytr,yval = y.iloc[train_index],y.iloc[test_index]\n",
    "        \n",
    "    model = RandomForestClassifier(random_state=1, max_depth=10)\n",
    "\n",
    "    model.fit(xtr,ytr)\n",
    "\n",
    "    pred_test=model.predict(xval)\n",
    "\n",
    "    score=accuracy_score(yval,pred_test)\n",
    "\n",
    "    print ('accuracy_score',score)\n",
    "\n",
    "    i+=1\n",
    "\n",
    "pred_test4 = model.predict(test)"
   ]
  },
  {
   "cell_type": "code",
   "execution_count": 102,
   "id": "9b9cda14-9876-45c7-bfea-39c288bb79a8",
   "metadata": {},
   "outputs": [
    {
     "data": {
      "text/plain": [
       "0.7947354391576703"
      ]
     },
     "execution_count": 102,
     "metadata": {},
     "output_type": "execute_result"
    }
   ],
   "source": [
    "arr = np.array([0.8211382113821138,0.8130081300813008,0.8048780487804879,0.7723577235772358,0.7622950819672131])\n",
    "Mean_accuracy = np.mean(arr)\n",
    "Mean_accuracy"
   ]
  },
  {
   "cell_type": "markdown",
   "id": "40e2dab2-2e2a-4d9f-939a-4536b36dd882",
   "metadata": {},
   "source": [
    "The mean accuracy for Random Forest classifier is 79.47%"
   ]
  },
  {
   "cell_type": "markdown",
   "id": "11c1f4a0-d2ff-4ddf-affd-081e471bd0d4",
   "metadata": {},
   "source": [
    "## Hyperparameter tuning"
   ]
  },
  {
   "cell_type": "markdown",
   "id": "e937b294-0566-4c68-bb39-ee6214fe4004",
   "metadata": {},
   "source": [
    "We will try to improve accuracy by tuning the hyperparameters for the Random Forest model. We will use Grid search to get optimized value of hyperparameters. We will tune the parameters - max-depth and n_estimators. Max depth is the maximum depth of the tree and n_estimators is the number of decision trees used in Random Forest model."
   ]
  },
  {
   "cell_type": "code",
   "execution_count": 103,
   "id": "c1769969-8911-47a3-9448-8661f8080897",
   "metadata": {},
   "outputs": [
    {
     "data": {
      "text/plain": [
       "GridSearchCV(estimator=RandomForestClassifier(random_state=1),\n",
       "             param_grid={'max_depth': [1, 3, 5, 7, 9, 11, 13, 15, 17, 19],\n",
       "                         'n_estimators': [1, 21, 41, 61, 81, 101, 121, 141, 161,\n",
       "                                          181]})"
      ]
     },
     "execution_count": 103,
     "metadata": {},
     "output_type": "execute_result"
    }
   ],
   "source": [
    "from sklearn.model_selection import GridSearchCV\n",
    "\n",
    "paramgrid = {'max_depth':list(range(1,20,2)),'n_estimators':list(range(1,200,20))}\n",
    "\n",
    "grid_search = GridSearchCV(RandomForestClassifier(random_state=1), paramgrid)\n",
    "\n",
    "# split training and test sets\n",
    "x_train, x_cv, y_train, y_cv = train_test_split(X, y, test_size=0.3, random_state=1)\n",
    "\n",
    "# fit the grid seach model\n",
    "grid_search.fit(x_train, y_train)"
   ]
  },
  {
   "cell_type": "code",
   "execution_count": 104,
   "id": "14828544-73a0-466f-b2c9-640c9abb9cd3",
   "metadata": {},
   "outputs": [
    {
     "data": {
      "text/plain": [
       "RandomForestClassifier(max_depth=3, n_estimators=161, random_state=1)"
      ]
     },
     "execution_count": 104,
     "metadata": {},
     "output_type": "execute_result"
    }
   ],
   "source": [
    "# find the best estimator\n",
    "grid_search.best_estimator_"
   ]
  },
  {
   "cell_type": "code",
   "execution_count": 110,
   "id": "7a8a56cb-a1b5-4da1-93a0-b5f1556cbdea",
   "metadata": {},
   "outputs": [
    {
     "name": "stdout",
     "output_type": "stream",
     "text": [
      "\n",
      "1 of kfold 5 \n",
      "accuracy_score 0.8292682926829268\n",
      "\n",
      "2 of kfold 5 \n",
      "accuracy_score 0.8455284552845529\n",
      "\n",
      "3 of kfold 5 \n",
      "accuracy_score 0.7967479674796748\n",
      "\n",
      "4 of kfold 5 \n",
      "accuracy_score 0.7723577235772358\n",
      "\n",
      "5 of kfold 5 \n",
      "accuracy_score 0.7868852459016393\n"
     ]
    }
   ],
   "source": [
    "# Random forest model with best estimators\n",
    "i=1\n",
    "kf_rf1 = StratifiedKFold(n_splits=5, random_state=1, shuffle=True)    \n",
    "for train_index,test_index in kf_rf1.split(X,y):\n",
    "\n",
    "    print ('\\n{} of kfold {} '.format(i,kf_rf1.n_splits))\n",
    "\n",
    "    xtr,xval = X.iloc[train_index],X.iloc[test_index]\n",
    "\n",
    "    ytr,yval = y.iloc[train_index],y.iloc[test_index]\n",
    "        \n",
    "    model_rf = RandomForestClassifier(random_state=1, max_depth=3, n_estimators=161)\n",
    "\n",
    "    model_rf.fit(xtr,ytr)\n",
    "\n",
    "    pred_test=model_rf.predict(xval)\n",
    "\n",
    "    score=accuracy_score(yval,pred_test)\n",
    "\n",
    "    print ('accuracy_score',score)\n",
    "\n",
    "    i+=1\n",
    "\n",
    "pred_test5 = model_rf.predict(test)\n",
    "\n",
    "pred_rf = model_rf.predict_proba(test)[:,1]"
   ]
  },
  {
   "cell_type": "code",
   "execution_count": 122,
   "id": "12d17e70-c778-4dbb-af71-17da162d2989",
   "metadata": {},
   "outputs": [
    {
     "data": {
      "text/plain": [
       "0.806157536985206"
      ]
     },
     "execution_count": 122,
     "metadata": {},
     "output_type": "execute_result"
    }
   ],
   "source": [
    "arr_2 = np.array([0.8292682926829268,0.8455284552845529,0.7967479674796748,0.7723577235772358,0.7868852459016393])\n",
    "Mean_accuracy = np.mean(arr_2)\n",
    "Mean_accuracy"
   ]
  },
  {
   "cell_type": "markdown",
   "id": "46069b36-33b7-4431-bde8-b577e9bcd17b",
   "metadata": {},
   "source": [
    "The mean accuracy of Random Forest classifier after hyperparameter tuning is 80.61%"
   ]
  },
  {
   "cell_type": "code",
   "execution_count": 111,
   "id": "6bc0c7e4-14ef-4f3b-9e26-7b1cd1ec4d01",
   "metadata": {},
   "outputs": [],
   "source": [
    "# import submission file 4\n",
    "submission['Loan_Status'] = pred_test5\n",
    "submission['Loan_ID'] = test_original['Loan_ID']\n",
    "\n",
    "submission['Loan_Status'].replace(0, 'N', inplace=True)\n",
    "submission['Loan_Status'].replace(1, 'Y', inplace=True)\n",
    "\n",
    "pd.DataFrame(submission, columns=['Loan_ID','Loan_Status']).to_csv('RandomForest.csv')"
   ]
  },
  {
   "cell_type": "markdown",
   "id": "cbcc2f3d-358b-46ee-a2e1-eccd6ef809b9",
   "metadata": {},
   "source": [
    "Important Features"
   ]
  },
  {
   "cell_type": "code",
   "execution_count": 112,
   "id": "73244536-f0cb-46bf-96d1-0333e35ee91b",
   "metadata": {},
   "outputs": [
    {
     "data": {
      "text/plain": [
       "<AxesSubplot:>"
      ]
     },
     "execution_count": 112,
     "metadata": {},
     "output_type": "execute_result"
    },
    {
     "data": {
      "image/png": "[encoded data removed]",
      "text/plain": [
       "<Figure size 864x576 with 1 Axes>"
      ]
     },
     "metadata": {
      "needs_background": "light"
     },
     "output_type": "display_data"
    }
   ],
   "source": [
    "importance = pd.Series(model_rf.feature_importances_, index=X.columns)\n",
    "importance.plot(kind='barh',figsize=(12,8))"
   ]
  },
  {
   "cell_type": "markdown",
   "id": "37bf15e6-4c2d-45fa-a915-75cdf861eb0b",
   "metadata": {},
   "source": [
    "## 4- XGBoost Classifier"
   ]
  },
  {
   "cell_type": "code",
   "execution_count": 115,
   "id": "4821ede6-c052-469e-bd02-db366b19cccd",
   "metadata": {},
   "outputs": [
    {
     "name": "stdout",
     "output_type": "stream",
     "text": [
      "Collecting xgboostNote: you may need to restart the kernel to use updated packages.\n",
      "  Downloading xgboost-1.7.5-py3-none-win_amd64.whl (70.9 MB)\n",
      "Requirement already satisfied: scipy in c:\\users\\hp\\anaconda3\\lib\\site-packages (from xgboost) (1.6.2)\n",
      "\n",
      "Requirement already satisfied: numpy in c:\\users\\hp\\anaconda3\\lib\\site-packages (from xgboost) (1.20.1)\n",
      "Installing collected packages: xgboost\n",
      "Successfully installed xgboost-1.7.5\n"
     ]
    }
   ],
   "source": [
    "pip install xgboost"
   ]
  },
  {
   "cell_type": "code",
   "execution_count": 120,
   "id": "53f0c1ab-c1db-44e1-9663-cfc9a98c7720",
   "metadata": {},
   "outputs": [
    {
     "name": "stdout",
     "output_type": "stream",
     "text": [
      "\n",
      "1 of kfold 5 \n",
      "accuracy_score 0.7804878048780488\n",
      "\n",
      "2 of kfold 5 \n",
      "accuracy_score 0.7479674796747967\n",
      "\n",
      "3 of kfold 5 \n",
      "accuracy_score 0.7804878048780488\n",
      "\n",
      "4 of kfold 5 \n",
      "accuracy_score 0.7723577235772358\n",
      "\n",
      "5 of kfold 5 \n",
      "accuracy_score 0.7540983606557377\n"
     ]
    }
   ],
   "source": [
    "import xgboost as xgb\n",
    "from xgboost import XGBClassifier\n",
    "\n",
    "i=1\n",
    "kf_xgb = StratifiedKFold(n_splits=5, random_state=1, shuffle=True)    \n",
    "for train_index,test_index in kf_xgb.split(X,y):\n",
    "\n",
    "    print ('\\n{} of kfold {} '.format(i,kf_xgb.n_splits))\n",
    "\n",
    "    xtr,xval = X.iloc[train_index],X.iloc[test_index]\n",
    "\n",
    "    ytr,yval = y.iloc[train_index],y.iloc[test_index]\n",
    "        \n",
    "    model_xgb = XGBClassifier(max_depth=4, n_estimators=50)\n",
    "\n",
    "    model_xgb.fit(xtr._get_numeric_data(),ytr)\n",
    "\n",
    "    pred_test=model_xgb.predict(xval._get_numeric_data())\n",
    "\n",
    "    score=accuracy_score(yval,pred_test)\n",
    "\n",
    "    print('accuracy_score',score)\n",
    "\n",
    "    i+=1\n",
    "\n",
    "pred_test6 = model_xgb.predict(test._get_numeric_data())\n",
    "\n",
    "pred_xgb = model_xgb.predict_proba(test._get_numeric_data())[:,1]"
   ]
  },
  {
   "cell_type": "code",
   "execution_count": 121,
   "id": "0c391b5f-6f02-4eaa-b9e3-f694b0ea8b29",
   "metadata": {},
   "outputs": [
    {
     "data": {
      "text/plain": [
       "0.731187524990004"
      ]
     },
     "execution_count": 121,
     "metadata": {},
     "output_type": "execute_result"
    }
   ],
   "source": [
    "arr_1 = np.array([0.7804878048780488,0.7479674796747967,0.7804878048780488,0.7723577235772358,0.7540983606557377])\n",
    "mean_acc_1 = np.mean(arr1)\n",
    "mean_acc_1"
   ]
  },
  {
   "cell_type": "markdown",
   "id": "ce856fb4-e407-492e-9243-b1cc738d085f",
   "metadata": {},
   "source": [
    "The mean accuracy of XGBoost Classifier is 73.11%"
   ]
  },
  {
   "cell_type": "code",
   "execution_count": 123,
   "id": "8b6d4ef5-bd7d-4938-bb93-44493ca06a4c",
   "metadata": {},
   "outputs": [],
   "source": [
    "# import submission file 5\n",
    "submission['Loan_Status'] = pred_test6\n",
    "submission['Loan_ID'] = test_original['Loan_ID']\n",
    "\n",
    "submission['Loan_Status'].replace(0, 'N', inplace=True)\n",
    "submission['Loan_Status'].replace(1, 'Y', inplace=True)\n",
    "\n",
    "pd.DataFrame(submission, columns=['Loan_ID','Loan_Status']).to_csv('XGBoost.csv')"
   ]
  },
  {
   "cell_type": "code",
   "execution_count": 126,
   "id": "f9f83fa6-47fc-4e8a-a2a8-66c4815d1914",
   "metadata": {},
   "outputs": [
    {
     "name": "stdout",
     "output_type": "stream",
     "text": [
      "Accuracy score of Logistic Regression : 0.731187524990004\n",
      "Accuracy score of Decision Tree Classifier : 0.705131280821005\n",
      "Accuracy score of Random Forest Classifier : 0.806157536985206\n",
      "Accuracy score of XGBoost Classifier : 0.731187524990004\n"
     ]
    }
   ],
   "source": [
    "print('Accuracy score of Logistic Regression : {}'.format(mean_acc))\n",
    "print('Accuracy score of Decision Tree Classifier : {}'.format(mean_acc2))\n",
    "print('Accuracy score of Random Forest Classifier : {}'.format(Mean_accuracy))\n",
    "print('Accuracy score of XGBoost Classifier : {}'.format(mean_acc_1))\n"
   ]
  },
  {
   "cell_type": "markdown",
   "id": "52e68c56-1c20-4145-9cf0-f5bbaf07fddb",
   "metadata": {},
   "source": [
    "# Conclusion"
   ]
  },
  {
   "cell_type": "markdown",
   "id": "d168b398-f09e-4788-84fb-25249a0d203d",
   "metadata": {},
   "source": [
    "So, Random Forest Classifier is the best model."
   ]
  }
 ],
 "metadata": {
  "kernelspec": {
   "display_name": "Python 3",
   "language": "python",
   "name": "python3"
  },
  "language_info": {
   "codemirror_mode": {
    "name": "ipython",
    "version": 3
   },
   "file_extension": ".py",
   "mimetype": "text/x-python",
   "name": "python",
   "nbconvert_exporter": "python",
   "pygments_lexer": "ipython3",
   "version": "3.8.8"
  }
 },
 "nbformat": 4,
 "nbformat_minor": 5
}
